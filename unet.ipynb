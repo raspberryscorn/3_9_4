{
  "nbformat": 4,
  "nbformat_minor": 0,
  "metadata": {
    "colab": {
      "provenance": [],
      "mount_file_id": "1viYIhlp3KB5pYZ53D6tdAXXTNGrhyqBJ",
      "authorship_tag": "ABX9TyMf/doHWm/EObOAc2da6Gx2",
      "include_colab_link": true
    },
    "kernelspec": {
      "name": "python3",
      "display_name": "Python 3"
    },
    "language_info": {
      "name": "python"
    }
  },
  "cells": [
    {
      "cell_type": "markdown",
      "metadata": {
        "id": "view-in-github",
        "colab_type": "text"
      },
      "source": [
        "<a href=\"https://colab.research.google.com/github/raspberryscorn/3_9_4/blob/main/unet.ipynb\" target=\"_parent\"><img src=\"https://colab.research.google.com/assets/colab-badge.svg\" alt=\"Open In Colab\"/></a>"
      ]
    },
    {
      "cell_type": "code",
      "execution_count": null,
      "metadata": {
        "id": "L1k8IGINgaKC"
      },
      "outputs": [],
      "source": [
        "cd \"/content/drive/MyDrive/ddeep/bhban_ai/SECTION_3/Chapter_9/3_9_4\""
      ]
    },
    {
      "cell_type": "code",
      "source": [
        "\"\"\"\n",
        "Author : Byunghyun Ban\n",
        "Date : 2020.07.24.\n",
        "This code uses sample codes from https://www.kaggle.com/keegil/keras-u-net-starter-lb-0-277,\n",
        "which has Apache 2.0 License.\n",
        "\"\"\"\n",
        "import tensorflow as tf\n",
        "from tensorflow import keras\n",
        "import numpy as np\n",
        "\n",
        "\n",
        "# 인공신경망을 제작합니다.\n",
        "def graph(input_X, input_Y):\n",
        "    input = keras.layers.Input((input_X, input_Y, 3))\n",
        "\n",
        "    # 첫 번째 Convolution Block\n",
        "    Conv1 = keras.layers.Conv2D(16, (3, 3), activation=\"relu\", padding='same')(input)\n",
        "    Conv1 = keras.layers.Conv2D(16, (3, 3), activation=\"relu\", padding='same')(Conv1)\n",
        "    Pool1 = keras.layers.MaxPooling2D((2, 2)) (Conv1)\n",
        "\n",
        "    # 두 번째 Convolution Block\n",
        "    Conv2 = keras.layers.Conv2D(32, (3, 3), activation=\"relu\", padding='same')(Pool1)\n",
        "    Conv2 = keras.layers.Conv2D(32, (3, 3), activation=\"relu\", padding='same')(Conv2)\n",
        "    Pool2 = keras.layers.MaxPooling2D((2, 2))(Conv2)\n",
        "\n",
        "    # 세 번째 Convolution Block\n",
        "    Conv3 = keras.layers.Conv2D(64, (3, 3), activation=\"relu\", padding='same')(Pool2)\n",
        "    Conv3 = keras.layers.Conv2D(64, (3, 3), activation=\"relu\", padding='same')(Conv3)\n",
        "    Pool3 = keras.layers.MaxPooling2D((2, 2))(Conv3)\n",
        "\n",
        "    # 네 번째 Convolution Block\n",
        "    Conv4 = keras.layers.Conv2D(128, (3, 3), activation=\"relu\", padding='same')(Pool3)\n",
        "    Conv4 = keras.layers.Conv2D(128, (3, 3), activation=\"relu\", padding='same')(Conv4)\n",
        "    Pool4 = keras.layers.MaxPooling2D((2, 2))(Conv4)\n",
        "\n",
        "    # 다섯 번째 Convolution Block\n",
        "    Conv5 = keras.layers.Conv2D(256, (3, 3), activation=\"relu\", padding='same')(Pool4)\n",
        "    Conv5 = keras.layers.Conv2D(256, (3, 3), activation=\"relu\", padding='same')(Conv5)\n",
        "\n",
        "    # 첫 번째 Upsampling Block\n",
        "    Ups1 = keras.layers.Conv2DTranspose(128, (2, 2), strides=(2, 2))(Conv5)\n",
        "    Ups1 = keras.layers.Concatenate()([Ups1, Conv4])\n",
        "    Ups1_conv = keras.layers.Conv2D(128, (3, 3), activation=\"relu\", padding=\"same\")(Ups1)\n",
        "    Ups1_conv = keras.layers.Conv2D(128, (3, 3), activation=\"relu\", padding=\"same\")(Ups1_conv)\n",
        "\n",
        "    # 두 번째 Upsampling Block\n",
        "    Ups2 = keras.layers.Conv2DTranspose(64, (2, 2), strides=(2, 2), padding=\"same\")(Ups1_conv)\n",
        "    Ups2 = keras.layers.Concatenate()([Ups2, Conv3])\n",
        "    Ups2_conv = keras.layers.Conv2D(64, (3, 3), activation=\"relu\", padding=\"same\")(Ups2)\n",
        "    Ups2_conv = keras.layers.Conv2D(64, (3, 3), activation=\"relu\", padding=\"same\")(Ups2_conv)\n",
        "\n",
        "    # 세 번째 Upsampling Block\n",
        "    Ups3 = keras.layers.Conv2DTranspose(32, (2, 2), strides=(2, 2), padding=\"same\")(Ups2_conv)\n",
        "    Ups3 = keras.layers.Concatenate()([Ups3, Conv2])\n",
        "    Ups3_conv = keras.layers.Conv2D(32, (3, 3), activation=\"relu\", padding=\"same\")(Ups3)\n",
        "    Ups3_conv = keras.layers.Conv2D(32, (3, 3), activation=\"relu\", padding=\"same\")(Ups3_conv)\n",
        "\n",
        "    # 네 번째 Upsampling Block\n",
        "    Ups4 = keras.layers.Conv2DTranspose(16, (2, 2), strides=(2, 2), padding=\"same\")(Ups3_conv)\n",
        "    Ups4 = keras.layers.Concatenate()([Ups4, Conv1])\n",
        "    Ups4_conv = keras.layers.Conv2D(16, (3, 3), activation=\"relu\", padding=\"same\")(Ups4)\n",
        "    Ups4_conv = keras.layers.Conv2D(16, (3, 3), activation=\"relu\", padding=\"same\")(Ups4_conv)\n",
        "\n",
        "    output_logit = keras.layers.Conv2D(1, (1, 1))(Ups4_conv)\n",
        "\n",
        "    return keras.Model(inputs=input, outputs=output_logit)\n"
      ],
      "metadata": {
        "id": "mUdjj1l1gsy5"
      },
      "execution_count": null,
      "outputs": []
    }
  ]
}