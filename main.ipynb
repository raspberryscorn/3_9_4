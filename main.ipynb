{
  "nbformat": 4,
  "nbformat_minor": 0,
  "metadata": {
    "colab": {
      "provenance": [],
      "mount_file_id": "1hwyPQnQxl4vGiCaADHWPpkrrOzZUzBiZ",
      "authorship_tag": "ABX9TyMTtq4qpEMNNvUnj9BKv2v+",
      "include_colab_link": true
    },
    "kernelspec": {
      "name": "python3",
      "display_name": "Python 3"
    },
    "language_info": {
      "name": "python"
    }
  },
  "cells": [
    {
      "cell_type": "markdown",
      "metadata": {
        "id": "view-in-github",
        "colab_type": "text"
      },
      "source": [
        "<a href=\"https://colab.research.google.com/github/raspberryscorn/3_9_4/blob/main/main.ipynb\" target=\"_parent\"><img src=\"https://colab.research.google.com/assets/colab-badge.svg\" alt=\"Open In Colab\"/></a>"
      ]
    },
    {
      "cell_type": "code",
      "execution_count": null,
      "metadata": {
        "id": "nfrgQ2Lwg_1G"
      },
      "outputs": [],
      "source": [
        "cd \"/content/drive/MyDrive/ddeep/bhban_ai/SECTION_3/Chapter_9/3_9_4\""
      ]
    },
    {
      "cell_type": "code",
      "source": [
        "\"\"\"\n",
        "Author : Byunghyun Ban\n",
        "Date : 2020.07.24.\n",
        "\"\"\"\n",
        "from tensorflow import keras\n",
        "import data_reader\n",
        "import unet\n",
        "\n",
        "# 몇 에포크 만큼 학습을 시킬 것인지 결정합니다.\n",
        "EPOCHS = 50  # 예제 기본값은 50입니다.\n",
        "\n",
        "# 데이터를 읽어옵니다.\n",
        "dr = data_reader.DataReader()\n",
        "\n",
        "# U-Net을 불러옵니다.\n",
        "model = unet.graph(128, 128)\n",
        "\n",
        "# 인공신경망을 컴파일합니다.\n",
        "loss = keras.losses.BinaryCrossentropy(from_logits=True)\n",
        "model.compile(optimizer=\"adam\", metrics=['accuracy'], loss=loss)\n",
        "\n",
        "# 인공신경망을 학습시킵니다.\n",
        "print(\"\\n\\n************ TRAINING START ************ \")\n",
        "early_stop = keras.callbacks.EarlyStopping(monitor='val_loss', patience=10)\n",
        "history = model.fit(dr.train_X, dr.train_Y, epochs=EPOCHS,\n",
        "                    validation_data=(dr.test_X, dr.test_Y),\n",
        "                    callbacks=[early_stop])\n",
        "\n",
        "# Segmentation 결과를 저장합니다.\n",
        "data_reader.save_segmentation_results(dr.test_X, dr.test_Y, model)\n",
        "\n",
        "# 학습 결과를 그래프로 출력합니다.\n",
        "data_reader.draw_graph(history)\n"
      ],
      "metadata": {
        "id": "pxNgP0Y8hNSB"
      },
      "execution_count": null,
      "outputs": []
    }
  ]
}